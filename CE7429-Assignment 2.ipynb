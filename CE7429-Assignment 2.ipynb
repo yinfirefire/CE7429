{
 "cells": [
  {
   "cell_type": "code",
   "execution_count": 140,
   "metadata": {},
   "outputs": [],
   "source": [
    "import pandas as pd\n",
    "import numpy as np\n",
    "import matplotlib.pyplot as plt\n",
    "%matplotlib inline"
   ]
  },
  {
   "cell_type": "code",
   "execution_count": 141,
   "metadata": {},
   "outputs": [
    {
     "data": {
      "text/html": [
       "<div>\n",
       "<style scoped>\n",
       "    .dataframe tbody tr th:only-of-type {\n",
       "        vertical-align: middle;\n",
       "    }\n",
       "\n",
       "    .dataframe tbody tr th {\n",
       "        vertical-align: top;\n",
       "    }\n",
       "\n",
       "    .dataframe thead th {\n",
       "        text-align: right;\n",
       "    }\n",
       "</style>\n",
       "<table border=\"1\" class=\"dataframe\">\n",
       "  <thead>\n",
       "    <tr style=\"text-align: right;\">\n",
       "      <th></th>\n",
       "      <th>Name</th>\n",
       "      <th>distance</th>\n",
       "      <th>diameter</th>\n",
       "      <th>density</th>\n",
       "      <th>class</th>\n",
       "    </tr>\n",
       "  </thead>\n",
       "  <tbody>\n",
       "    <tr>\n",
       "      <th>0</th>\n",
       "      <td>Mercury</td>\n",
       "      <td>0.387</td>\n",
       "      <td>4878</td>\n",
       "      <td>5.420</td>\n",
       "      <td>black</td>\n",
       "    </tr>\n",
       "    <tr>\n",
       "      <th>1</th>\n",
       "      <td>Venus</td>\n",
       "      <td>0.723</td>\n",
       "      <td>12104</td>\n",
       "      <td>5.250</td>\n",
       "      <td>black</td>\n",
       "    </tr>\n",
       "    <tr>\n",
       "      <th>2</th>\n",
       "      <td>Earth</td>\n",
       "      <td>1.000</td>\n",
       "      <td>12756</td>\n",
       "      <td>5.520</td>\n",
       "      <td>black</td>\n",
       "    </tr>\n",
       "    <tr>\n",
       "      <th>3</th>\n",
       "      <td>Mars</td>\n",
       "      <td>1.524</td>\n",
       "      <td>6787</td>\n",
       "      <td>3.940</td>\n",
       "      <td>black</td>\n",
       "    </tr>\n",
       "    <tr>\n",
       "      <th>4</th>\n",
       "      <td>Jupiter</td>\n",
       "      <td>5.203</td>\n",
       "      <td>142800</td>\n",
       "      <td>1.314</td>\n",
       "      <td>blue</td>\n",
       "    </tr>\n",
       "    <tr>\n",
       "      <th>5</th>\n",
       "      <td>Saturn</td>\n",
       "      <td>9.539</td>\n",
       "      <td>120660</td>\n",
       "      <td>0.690</td>\n",
       "      <td>blue</td>\n",
       "    </tr>\n",
       "    <tr>\n",
       "      <th>6</th>\n",
       "      <td>Uranus</td>\n",
       "      <td>19.180</td>\n",
       "      <td>51118</td>\n",
       "      <td>1.290</td>\n",
       "      <td>blue</td>\n",
       "    </tr>\n",
       "    <tr>\n",
       "      <th>7</th>\n",
       "      <td>Neptune</td>\n",
       "      <td>30.060</td>\n",
       "      <td>49528</td>\n",
       "      <td>1.640</td>\n",
       "      <td>blue</td>\n",
       "    </tr>\n",
       "    <tr>\n",
       "      <th>8</th>\n",
       "      <td>Pluto</td>\n",
       "      <td>39.530</td>\n",
       "      <td>2300</td>\n",
       "      <td>2.030</td>\n",
       "      <td>blue</td>\n",
       "    </tr>\n",
       "  </tbody>\n",
       "</table>\n",
       "</div>"
      ],
      "text/plain": [
       "      Name  distance  diameter  density  class\n",
       "0  Mercury     0.387      4878    5.420  black\n",
       "1    Venus     0.723     12104    5.250  black\n",
       "2    Earth     1.000     12756    5.520  black\n",
       "3     Mars     1.524      6787    3.940  black\n",
       "4  Jupiter     5.203    142800    1.314   blue\n",
       "5   Saturn     9.539    120660    0.690   blue\n",
       "6   Uranus    19.180     51118    1.290   blue\n",
       "7  Neptune    30.060     49528    1.640   blue\n",
       "8    Pluto    39.530      2300    2.030   blue"
      ]
     },
     "execution_count": 141,
     "metadata": {},
     "output_type": "execute_result"
    }
   ],
   "source": [
    "data=pd.read_csv('assign2.csv')\n",
    "data"
   ]
  },
  {
   "cell_type": "markdown",
   "metadata": {},
   "source": [
    "### Data Normalization"
   ]
  },
  {
   "cell_type": "code",
   "execution_count": 142,
   "metadata": {},
   "outputs": [],
   "source": [
    "distance_m=np.mean(data['distance'])\n",
    "diameter_m=np.mean(data['diameter'])\n",
    "density_m=np.mean(data['density'])"
   ]
  },
  {
   "cell_type": "markdown",
   "metadata": {},
   "source": [
    "#### Center to zero"
   ]
  },
  {
   "cell_type": "code",
   "execution_count": 143,
   "metadata": {},
   "outputs": [],
   "source": [
    "data['distance']-=distance_m\n",
    "data['diameter']-=diameter_m\n",
    "data['density']-=density_m"
   ]
  },
  {
   "cell_type": "markdown",
   "metadata": {},
   "source": [
    "#### Set variance to unit variance\n",
    "variance is the square root of the sum of square divided by (n-1)"
   ]
  },
  {
   "cell_type": "code",
   "execution_count": 144,
   "metadata": {},
   "outputs": [],
   "source": [
    "distance_var=np.sqrt(np.sum(np.square(data['distance']))/8)\n",
    "diameter_var=np.sqrt(np.sum(np.square(data['diameter']))/8)\n",
    "density_var=np.sqrt(np.sum(np.square(data['density']))/8)"
   ]
  },
  {
   "cell_type": "code",
   "execution_count": 145,
   "metadata": {},
   "outputs": [
    {
     "data": {
      "text/html": [
       "<div>\n",
       "<style scoped>\n",
       "    .dataframe tbody tr th:only-of-type {\n",
       "        vertical-align: middle;\n",
       "    }\n",
       "\n",
       "    .dataframe tbody tr th {\n",
       "        vertical-align: top;\n",
       "    }\n",
       "\n",
       "    .dataframe thead th {\n",
       "        text-align: right;\n",
       "    }\n",
       "</style>\n",
       "<table border=\"1\" class=\"dataframe\">\n",
       "  <thead>\n",
       "    <tr style=\"text-align: right;\">\n",
       "      <th></th>\n",
       "      <th>Name</th>\n",
       "      <th>distance</th>\n",
       "      <th>diameter</th>\n",
       "      <th>density</th>\n",
       "      <th>class</th>\n",
       "    </tr>\n",
       "  </thead>\n",
       "  <tbody>\n",
       "    <tr>\n",
       "      <th>0</th>\n",
       "      <td>Mercury</td>\n",
       "      <td>-0.794690</td>\n",
       "      <td>-0.754533</td>\n",
       "      <td>1.203928</td>\n",
       "      <td>black</td>\n",
       "    </tr>\n",
       "    <tr>\n",
       "      <th>1</th>\n",
       "      <td>Venus</td>\n",
       "      <td>-0.771508</td>\n",
       "      <td>-0.617858</td>\n",
       "      <td>1.118988</td>\n",
       "      <td>black</td>\n",
       "    </tr>\n",
       "    <tr>\n",
       "      <th>2</th>\n",
       "      <td>Earth</td>\n",
       "      <td>-0.752396</td>\n",
       "      <td>-0.605526</td>\n",
       "      <td>1.253892</td>\n",
       "      <td>black</td>\n",
       "    </tr>\n",
       "    <tr>\n",
       "      <th>3</th>\n",
       "      <td>Mars</td>\n",
       "      <td>-0.716243</td>\n",
       "      <td>-0.718425</td>\n",
       "      <td>0.464450</td>\n",
       "      <td>black</td>\n",
       "    </tr>\n",
       "    <tr>\n",
       "      <th>4</th>\n",
       "      <td>Jupiter</td>\n",
       "      <td>-0.462411</td>\n",
       "      <td>1.854170</td>\n",
       "      <td>-0.847624</td>\n",
       "      <td>blue</td>\n",
       "    </tr>\n",
       "    <tr>\n",
       "      <th>5</th>\n",
       "      <td>Saturn</td>\n",
       "      <td>-0.163249</td>\n",
       "      <td>1.435407</td>\n",
       "      <td>-1.159403</td>\n",
       "      <td>blue</td>\n",
       "    </tr>\n",
       "    <tr>\n",
       "      <th>6</th>\n",
       "      <td>Uranus</td>\n",
       "      <td>0.501930</td>\n",
       "      <td>0.120066</td>\n",
       "      <td>-0.859615</td>\n",
       "      <td>blue</td>\n",
       "    </tr>\n",
       "    <tr>\n",
       "      <th>7</th>\n",
       "      <td>Neptune</td>\n",
       "      <td>1.252594</td>\n",
       "      <td>0.089992</td>\n",
       "      <td>-0.684739</td>\n",
       "      <td>blue</td>\n",
       "    </tr>\n",
       "    <tr>\n",
       "      <th>8</th>\n",
       "      <td>Pluto</td>\n",
       "      <td>1.905975</td>\n",
       "      <td>-0.803294</td>\n",
       "      <td>-0.489876</td>\n",
       "      <td>blue</td>\n",
       "    </tr>\n",
       "  </tbody>\n",
       "</table>\n",
       "</div>"
      ],
      "text/plain": [
       "      Name  distance  diameter   density  class\n",
       "0  Mercury -0.794690 -0.754533  1.203928  black\n",
       "1    Venus -0.771508 -0.617858  1.118988  black\n",
       "2    Earth -0.752396 -0.605526  1.253892  black\n",
       "3     Mars -0.716243 -0.718425  0.464450  black\n",
       "4  Jupiter -0.462411  1.854170 -0.847624   blue\n",
       "5   Saturn -0.163249  1.435407 -1.159403   blue\n",
       "6   Uranus  0.501930  0.120066 -0.859615   blue\n",
       "7  Neptune  1.252594  0.089992 -0.684739   blue\n",
       "8    Pluto  1.905975 -0.803294 -0.489876   blue"
      ]
     },
     "execution_count": 145,
     "metadata": {},
     "output_type": "execute_result"
    }
   ],
   "source": [
    "data['distance']/=distance_var\n",
    "data['diameter']/=diameter_var\n",
    "data['density']/=density_var\n",
    "data"
   ]
  },
  {
   "cell_type": "code",
   "execution_count": 187,
   "metadata": {},
   "outputs": [
    {
     "data": {
      "text/plain": [
       "<matplotlib.collections.PathCollection at 0x21e12daa160>"
      ]
     },
     "execution_count": 187,
     "metadata": {},
     "output_type": "execute_result"
    },
    {
     "data": {
      "image/png": "[encoded data removed]",
      "text/plain": [
       "<Figure size 864x216 with 3 Axes>"
      ]
     },
     "metadata": {},
     "output_type": "display_data"
    }
   ],
   "source": [
    "x=data['distance']\n",
    "y=data['diameter']\n",
    "z=data['density']\n",
    "f, (ax1, ax2, ax3) = plt.subplots(1,3,figsize=(12,3))\n",
    "ax1.scatter(x,y,c=data['class'])\n",
    "ax2.scatter(x,z,c=data['class'])\n",
    "ax3.scatter(y,z,c=data['class'])"
   ]
  },
  {
   "cell_type": "code",
   "execution_count": 119,
   "metadata": {},
   "outputs": [],
   "source": [
    "three_dim=np.vstack([data['distance'],data['diameter'],data['density']])"
   ]
  },
  {
   "cell_type": "code",
   "execution_count": 201,
   "metadata": {},
   "outputs": [],
   "source": [
    "covariance=np.dot(three_dim,three_dim.T)"
   ]
  },
  {
   "cell_type": "code",
   "execution_count": 202,
   "metadata": {},
   "outputs": [],
   "source": [
    "eig_values,eig_vectors=np.linalg.eig(covariance)"
   ]
  },
  {
   "cell_type": "code",
   "execution_count": 203,
   "metadata": {},
   "outputs": [
    {
     "data": {
      "text/plain": [
       "array([ 0.3869077 ,  8.39648773, 15.21660458])"
      ]
     },
     "execution_count": 203,
     "metadata": {},
     "output_type": "execute_result"
    }
   ],
   "source": [
    "eig_values"
   ]
  },
  {
   "cell_type": "code",
   "execution_count": 204,
   "metadata": {},
   "outputs": [
    {
     "name": "stdout",
     "output_type": "stream",
     "text": [
      "0.6340251907676628\n"
     ]
    }
   ],
   "source": [
    "K1=eig_values[-1]/np.sum(eig_values)\n",
    "print(K1)"
   ]
  },
  {
   "cell_type": "code",
   "execution_count": 205,
   "metadata": {},
   "outputs": [
    {
     "name": "stdout",
     "output_type": "stream",
     "text": [
      "0.9838788460106381\n"
     ]
    }
   ],
   "source": [
    "K2=(eig_values[2]+eig_values[1])/np.sum(eig_values)\n",
    "print(K2)"
   ]
  },
  {
   "cell_type": "code",
   "execution_count": 206,
   "metadata": {},
   "outputs": [
    {
     "name": "stdout",
     "output_type": "stream",
     "text": [
      "[[ 0.46307095  0.76932901 -0.44011155]\n",
      " [ 0.54679005 -0.63877445 -0.54128352]\n",
      " [ 0.69755712 -0.01000406  0.71645933]]\n"
     ]
    }
   ],
   "source": [
    "print(eig_vectors)\n",
    "b=eig_vectors[:,1:3]"
   ]
  },
  {
   "cell_type": "code",
   "execution_count": 207,
   "metadata": {},
   "outputs": [
    {
     "data": {
      "text/plain": [
       "array([[ 0.76932901, -0.63877445, -0.01000406],\n",
       "       [-0.44011155, -0.54128352,  0.71645933]])"
      ]
     },
     "execution_count": 207,
     "metadata": {},
     "output_type": "execute_result"
    }
   ],
   "source": [
    "b.T"
   ]
  },
  {
   "cell_type": "code",
   "execution_count": 208,
   "metadata": {},
   "outputs": [
    {
     "name": "stdout",
     "output_type": "stream",
     "text": [
      "[[-0.14144613 -0.21006609 -0.20459006 -0.09676123 -1.53166316 -1.03089502\n",
      "   0.31805362  0.91302199  1.98434606]\n",
      " [ 1.62073363  1.47569486  1.5572622   1.03685801 -1.40740719 -1.5357795\n",
      "  -0.90177419 -1.09057967 -0.75500815]]\n"
     ]
    }
   ],
   "source": [
    "aft_trans=np.dot(b.T,three_dim)\n",
    "print(aft_trans)"
   ]
  },
  {
   "cell_type": "code",
   "execution_count": 209,
   "metadata": {},
   "outputs": [],
   "source": [
    "data['pca_2']=aft_trans[0]"
   ]
  },
  {
   "cell_type": "code",
   "execution_count": 210,
   "metadata": {},
   "outputs": [],
   "source": [
    "data['pca_1']=aft_trans[1]"
   ]
  },
  {
   "cell_type": "code",
   "execution_count": 211,
   "metadata": {},
   "outputs": [
    {
     "data": {
      "text/html": [
       "<div>\n",
       "<style scoped>\n",
       "    .dataframe tbody tr th:only-of-type {\n",
       "        vertical-align: middle;\n",
       "    }\n",
       "\n",
       "    .dataframe tbody tr th {\n",
       "        vertical-align: top;\n",
       "    }\n",
       "\n",
       "    .dataframe thead th {\n",
       "        text-align: right;\n",
       "    }\n",
       "</style>\n",
       "<table border=\"1\" class=\"dataframe\">\n",
       "  <thead>\n",
       "    <tr style=\"text-align: right;\">\n",
       "      <th></th>\n",
       "      <th>Name</th>\n",
       "      <th>distance</th>\n",
       "      <th>diameter</th>\n",
       "      <th>density</th>\n",
       "      <th>class</th>\n",
       "      <th>pca_2</th>\n",
       "      <th>pca_1</th>\n",
       "    </tr>\n",
       "  </thead>\n",
       "  <tbody>\n",
       "    <tr>\n",
       "      <th>0</th>\n",
       "      <td>Mercury</td>\n",
       "      <td>-0.794690</td>\n",
       "      <td>-0.754533</td>\n",
       "      <td>1.203928</td>\n",
       "      <td>black</td>\n",
       "      <td>-0.141446</td>\n",
       "      <td>1.620734</td>\n",
       "    </tr>\n",
       "    <tr>\n",
       "      <th>1</th>\n",
       "      <td>Venus</td>\n",
       "      <td>-0.771508</td>\n",
       "      <td>-0.617858</td>\n",
       "      <td>1.118988</td>\n",
       "      <td>black</td>\n",
       "      <td>-0.210066</td>\n",
       "      <td>1.475695</td>\n",
       "    </tr>\n",
       "    <tr>\n",
       "      <th>2</th>\n",
       "      <td>Earth</td>\n",
       "      <td>-0.752396</td>\n",
       "      <td>-0.605526</td>\n",
       "      <td>1.253892</td>\n",
       "      <td>black</td>\n",
       "      <td>-0.204590</td>\n",
       "      <td>1.557262</td>\n",
       "    </tr>\n",
       "    <tr>\n",
       "      <th>3</th>\n",
       "      <td>Mars</td>\n",
       "      <td>-0.716243</td>\n",
       "      <td>-0.718425</td>\n",
       "      <td>0.464450</td>\n",
       "      <td>black</td>\n",
       "      <td>-0.096761</td>\n",
       "      <td>1.036858</td>\n",
       "    </tr>\n",
       "    <tr>\n",
       "      <th>4</th>\n",
       "      <td>Jupiter</td>\n",
       "      <td>-0.462411</td>\n",
       "      <td>1.854170</td>\n",
       "      <td>-0.847624</td>\n",
       "      <td>blue</td>\n",
       "      <td>-1.531663</td>\n",
       "      <td>-1.407407</td>\n",
       "    </tr>\n",
       "    <tr>\n",
       "      <th>5</th>\n",
       "      <td>Saturn</td>\n",
       "      <td>-0.163249</td>\n",
       "      <td>1.435407</td>\n",
       "      <td>-1.159403</td>\n",
       "      <td>blue</td>\n",
       "      <td>-1.030895</td>\n",
       "      <td>-1.535780</td>\n",
       "    </tr>\n",
       "    <tr>\n",
       "      <th>6</th>\n",
       "      <td>Uranus</td>\n",
       "      <td>0.501930</td>\n",
       "      <td>0.120066</td>\n",
       "      <td>-0.859615</td>\n",
       "      <td>blue</td>\n",
       "      <td>0.318054</td>\n",
       "      <td>-0.901774</td>\n",
       "    </tr>\n",
       "    <tr>\n",
       "      <th>7</th>\n",
       "      <td>Neptune</td>\n",
       "      <td>1.252594</td>\n",
       "      <td>0.089992</td>\n",
       "      <td>-0.684739</td>\n",
       "      <td>blue</td>\n",
       "      <td>0.913022</td>\n",
       "      <td>-1.090580</td>\n",
       "    </tr>\n",
       "    <tr>\n",
       "      <th>8</th>\n",
       "      <td>Pluto</td>\n",
       "      <td>1.905975</td>\n",
       "      <td>-0.803294</td>\n",
       "      <td>-0.489876</td>\n",
       "      <td>blue</td>\n",
       "      <td>1.984346</td>\n",
       "      <td>-0.755008</td>\n",
       "    </tr>\n",
       "  </tbody>\n",
       "</table>\n",
       "</div>"
      ],
      "text/plain": [
       "      Name  distance  diameter   density  class     pca_2     pca_1\n",
       "0  Mercury -0.794690 -0.754533  1.203928  black -0.141446  1.620734\n",
       "1    Venus -0.771508 -0.617858  1.118988  black -0.210066  1.475695\n",
       "2    Earth -0.752396 -0.605526  1.253892  black -0.204590  1.557262\n",
       "3     Mars -0.716243 -0.718425  0.464450  black -0.096761  1.036858\n",
       "4  Jupiter -0.462411  1.854170 -0.847624   blue -1.531663 -1.407407\n",
       "5   Saturn -0.163249  1.435407 -1.159403   blue -1.030895 -1.535780\n",
       "6   Uranus  0.501930  0.120066 -0.859615   blue  0.318054 -0.901774\n",
       "7  Neptune  1.252594  0.089992 -0.684739   blue  0.913022 -1.090580\n",
       "8    Pluto  1.905975 -0.803294 -0.489876   blue  1.984346 -0.755008"
      ]
     },
     "execution_count": 211,
     "metadata": {},
     "output_type": "execute_result"
    }
   ],
   "source": [
    "data"
   ]
  },
  {
   "cell_type": "code",
   "execution_count": 212,
   "metadata": {},
   "outputs": [],
   "source": [
    "trans_2d=np.vstack([data['pca_1'],data['pca_2']])"
   ]
  },
  {
   "cell_type": "code",
   "execution_count": 213,
   "metadata": {},
   "outputs": [
    {
     "data": {
      "text/plain": [
       "<matplotlib.collections.PathCollection at 0x21e12ea2748>"
      ]
     },
     "execution_count": 213,
     "metadata": {},
     "output_type": "execute_result"
    },
    {
     "data": {
      "image/png": "[encoded data removed]",
      "text/plain": [
       "<Figure size 432x288 with 1 Axes>"
      ]
     },
     "metadata": {},
     "output_type": "display_data"
    }
   ],
   "source": [
    "plt.scatter(data['pca_1'],data['pca_2'],c=data['class'])"
   ]
  },
  {
   "cell_type": "code",
   "execution_count": null,
   "metadata": {},
   "outputs": [],
   "source": []
  }
 ],
 "metadata": {
  "kernelspec": {
   "display_name": "Python 3",
   "language": "python",
   "name": "python3"
  },
  "language_info": {
   "codemirror_mode": {
    "name": "ipython",
    "version": 3
   },
   "file_extension": ".py",
   "mimetype": "text/x-python",
   "name": "python",
   "nbconvert_exporter": "python",
   "pygments_lexer": "ipython3",
   "version": "3.6.5"
  }
 },
 "nbformat": 4,
 "nbformat_minor": 2
}
