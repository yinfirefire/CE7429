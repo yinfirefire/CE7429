{
 "cells": [
  {
   "cell_type": "code",
   "execution_count": 1,
   "metadata": {},
   "outputs": [],
   "source": [
    "import numpy as np\n",
    "import pandas as pd\n",
    "import matplotlib.pyplot as plt"
   ]
  },
  {
   "cell_type": "code",
   "execution_count": 2,
   "metadata": {},
   "outputs": [],
   "source": [
    "% matplotlib inline"
   ]
  },
  {
   "cell_type": "code",
   "execution_count": 3,
   "metadata": {},
   "outputs": [],
   "source": [
    "data=pd.read_csv('assign2.csv')"
   ]
  },
  {
   "cell_type": "code",
   "execution_count": 4,
   "metadata": {},
   "outputs": [],
   "source": [
    "cluster1=data[data['class']=='black']\n",
    "cluster2=data[data['class']=='blue']"
   ]
  },
  {
   "cell_type": "code",
   "execution_count": 5,
   "metadata": {},
   "outputs": [
    {
     "data": {
      "text/html": [
       "<div>\n",
       "<style scoped>\n",
       "    .dataframe tbody tr th:only-of-type {\n",
       "        vertical-align: middle;\n",
       "    }\n",
       "\n",
       "    .dataframe tbody tr th {\n",
       "        vertical-align: top;\n",
       "    }\n",
       "\n",
       "    .dataframe thead th {\n",
       "        text-align: right;\n",
       "    }\n",
       "</style>\n",
       "<table border=\"1\" class=\"dataframe\">\n",
       "  <thead>\n",
       "    <tr style=\"text-align: right;\">\n",
       "      <th></th>\n",
       "      <th>Name</th>\n",
       "      <th>distance</th>\n",
       "      <th>diameter</th>\n",
       "      <th>density</th>\n",
       "      <th>class</th>\n",
       "    </tr>\n",
       "  </thead>\n",
       "  <tbody>\n",
       "    <tr>\n",
       "      <th>0</th>\n",
       "      <td>Mercury</td>\n",
       "      <td>0.387</td>\n",
       "      <td>4878</td>\n",
       "      <td>5.42</td>\n",
       "      <td>black</td>\n",
       "    </tr>\n",
       "    <tr>\n",
       "      <th>1</th>\n",
       "      <td>Venus</td>\n",
       "      <td>0.723</td>\n",
       "      <td>12104</td>\n",
       "      <td>5.25</td>\n",
       "      <td>black</td>\n",
       "    </tr>\n",
       "    <tr>\n",
       "      <th>2</th>\n",
       "      <td>Earth</td>\n",
       "      <td>1.000</td>\n",
       "      <td>12756</td>\n",
       "      <td>5.52</td>\n",
       "      <td>black</td>\n",
       "    </tr>\n",
       "    <tr>\n",
       "      <th>3</th>\n",
       "      <td>Mars</td>\n",
       "      <td>1.524</td>\n",
       "      <td>6787</td>\n",
       "      <td>3.94</td>\n",
       "      <td>black</td>\n",
       "    </tr>\n",
       "  </tbody>\n",
       "</table>\n",
       "</div>"
      ],
      "text/plain": [
       "      Name  distance  diameter  density  class\n",
       "0  Mercury     0.387      4878     5.42  black\n",
       "1    Venus     0.723     12104     5.25  black\n",
       "2    Earth     1.000     12756     5.52  black\n",
       "3     Mars     1.524      6787     3.94  black"
      ]
     },
     "execution_count": 5,
     "metadata": {},
     "output_type": "execute_result"
    }
   ],
   "source": [
    "cluster1"
   ]
  },
  {
   "cell_type": "code",
   "execution_count": 6,
   "metadata": {},
   "outputs": [
    {
     "data": {
      "text/html": [
       "<div>\n",
       "<style scoped>\n",
       "    .dataframe tbody tr th:only-of-type {\n",
       "        vertical-align: middle;\n",
       "    }\n",
       "\n",
       "    .dataframe tbody tr th {\n",
       "        vertical-align: top;\n",
       "    }\n",
       "\n",
       "    .dataframe thead th {\n",
       "        text-align: right;\n",
       "    }\n",
       "</style>\n",
       "<table border=\"1\" class=\"dataframe\">\n",
       "  <thead>\n",
       "    <tr style=\"text-align: right;\">\n",
       "      <th></th>\n",
       "      <th>Name</th>\n",
       "      <th>distance</th>\n",
       "      <th>diameter</th>\n",
       "      <th>density</th>\n",
       "      <th>class</th>\n",
       "    </tr>\n",
       "  </thead>\n",
       "  <tbody>\n",
       "    <tr>\n",
       "      <th>4</th>\n",
       "      <td>Jupiter</td>\n",
       "      <td>5.203</td>\n",
       "      <td>142800</td>\n",
       "      <td>1.314</td>\n",
       "      <td>blue</td>\n",
       "    </tr>\n",
       "    <tr>\n",
       "      <th>5</th>\n",
       "      <td>Saturn</td>\n",
       "      <td>9.539</td>\n",
       "      <td>120660</td>\n",
       "      <td>0.690</td>\n",
       "      <td>blue</td>\n",
       "    </tr>\n",
       "    <tr>\n",
       "      <th>6</th>\n",
       "      <td>Uranus</td>\n",
       "      <td>19.180</td>\n",
       "      <td>51118</td>\n",
       "      <td>1.290</td>\n",
       "      <td>blue</td>\n",
       "    </tr>\n",
       "    <tr>\n",
       "      <th>7</th>\n",
       "      <td>Neptune</td>\n",
       "      <td>30.060</td>\n",
       "      <td>49528</td>\n",
       "      <td>1.640</td>\n",
       "      <td>blue</td>\n",
       "    </tr>\n",
       "    <tr>\n",
       "      <th>8</th>\n",
       "      <td>Pluto</td>\n",
       "      <td>39.530</td>\n",
       "      <td>2300</td>\n",
       "      <td>2.030</td>\n",
       "      <td>blue</td>\n",
       "    </tr>\n",
       "  </tbody>\n",
       "</table>\n",
       "</div>"
      ],
      "text/plain": [
       "      Name  distance  diameter  density class\n",
       "4  Jupiter     5.203    142800    1.314  blue\n",
       "5   Saturn     9.539    120660    0.690  blue\n",
       "6   Uranus    19.180     51118    1.290  blue\n",
       "7  Neptune    30.060     49528    1.640  blue\n",
       "8    Pluto    39.530      2300    2.030  blue"
      ]
     },
     "execution_count": 6,
     "metadata": {},
     "output_type": "execute_result"
    }
   ],
   "source": [
    "cluster2"
   ]
  },
  {
   "cell_type": "code",
   "execution_count": 7,
   "metadata": {},
   "outputs": [],
   "source": [
    "centroid1=np.array([np.mean(cluster1['distance']),np.mean(cluster1['diameter']),np.mean(cluster1['density'])])\n",
    "centroid2=np.array([np.mean(cluster2['distance']),np.mean(cluster2['diameter']),np.mean(cluster2['density'])])"
   ]
  },
  {
   "cell_type": "code",
   "execution_count": 8,
   "metadata": {},
   "outputs": [
    {
     "name": "stdout",
     "output_type": "stream",
     "text": [
      "[9.08500e-01 9.13125e+03 5.03250e+00] [2.07024e+01 7.32812e+04 1.39280e+00]\n"
     ]
    }
   ],
   "source": [
    "print(centroid1,centroid2)"
   ]
  },
  {
   "cell_type": "code",
   "execution_count": 9,
   "metadata": {},
   "outputs": [],
   "source": [
    "cl1_mat_center=np.matrix([list(cluster1['distance']-centroid1[0]),list(cluster1['diameter']-centroid1[1]),list(cluster1['density']-centroid1[2])])\n",
    "cl2_mat_center=np.matrix([list(cluster2['distance']-centroid2[0]),list(cluster2['diameter']-centroid2[1]),list(cluster2['density']-centroid2[2])])"
   ]
  },
  {
   "cell_type": "code",
   "execution_count": 10,
   "metadata": {},
   "outputs": [],
   "source": [
    "s1=np.dot(cl1_mat_center,cl1_mat_center.T)\n",
    "s2=np.dot(cl2_mat_center,cl2_mat_center.T)"
   ]
  },
  {
   "cell_type": "code",
   "execution_count": 11,
   "metadata": {},
   "outputs": [],
   "source": [
    "sw=s1+s2"
   ]
  },
  {
   "cell_type": "code",
   "execution_count": 12,
   "metadata": {},
   "outputs": [
    {
     "data": {
      "text/plain": [
       "matrix([[ 8.09907386e+02, -3.13079011e+06,  2.26633834e+01],\n",
       "        [-3.13079011e+06,  1.32169286e+10, -8.42719393e+04],\n",
       "        [ 2.26633834e+01, -8.42719393e+04,  2.60651180e+00]])"
      ]
     },
     "execution_count": 12,
     "metadata": {},
     "output_type": "execute_result"
    }
   ],
   "source": [
    "sw"
   ]
  },
  {
   "cell_type": "code",
   "execution_count": 13,
   "metadata": {},
   "outputs": [],
   "source": [
    "sw_inv=np.linalg.inv(sw)"
   ]
  },
  {
   "cell_type": "code",
   "execution_count": 14,
   "metadata": {},
   "outputs": [
    {
     "data": {
      "text/plain": [
       "matrix([[ 1.54397496e-02,  3.52880863e-06, -2.01562172e-02],\n",
       "        [ 3.52880863e-06,  9.01829450e-10, -1.52534364e-06],\n",
       "        [-2.01562172e-02, -1.52534364e-06,  5.09594629e-01]])"
      ]
     },
     "execution_count": 14,
     "metadata": {},
     "output_type": "execute_result"
    }
   ],
   "source": [
    "sw_inv"
   ]
  },
  {
   "cell_type": "code",
   "execution_count": 15,
   "metadata": {},
   "outputs": [
    {
     "name": "stdout",
     "output_type": "stream",
     "text": [
      "[[-6.05348340e-01 -1.33252992e-04  2.35159244e+00]]\n"
     ]
    }
   ],
   "source": [
    "vector=np.dot(sw_inv,centroid1-centroid2)\n",
    "print(vector)"
   ]
  },
  {
   "cell_type": "code",
   "execution_count": 16,
   "metadata": {},
   "outputs": [
    {
     "name": "stdout",
     "output_type": "stream",
     "text": [
      "1.8066047089387067\n"
     ]
    }
   ],
   "source": [
    "norm=np.cbrt(np.sum(np.multiply(vector,vector)))\n",
    "print(norm)"
   ]
  },
  {
   "cell_type": "code",
   "execution_count": 17,
   "metadata": {},
   "outputs": [],
   "source": [
    "norm_vector=vector/norm"
   ]
  },
  {
   "cell_type": "code",
   "execution_count": 18,
   "metadata": {},
   "outputs": [
    {
     "data": {
      "text/plain": [
       "matrix([[-3.35075148e-01, -7.37587984e-05,  1.30166407e+00]])"
      ]
     },
     "execution_count": 18,
     "metadata": {},
     "output_type": "execute_result"
    }
   ],
   "source": [
    "norm_vector"
   ]
  },
  {
   "cell_type": "code",
   "execution_count": 19,
   "metadata": {},
   "outputs": [],
   "source": [
    "cl1_mat=np.matrix([list(cluster1['distance']),list(cluster1['diameter']),list(cluster1['density'])])\n",
    "cl2_mat=np.matrix([list(cluster2['distance']),list(cluster2['diameter']),list(cluster2['density'])])"
   ]
  },
  {
   "cell_type": "code",
   "execution_count": 20,
   "metadata": {},
   "outputs": [
    {
     "name": "stdout",
     "output_type": "stream",
     "text": [
      "[6.56554975 5.69870053 5.90924328 4.11730094]\n"
     ]
    }
   ],
   "source": [
    "proj_1=np.array(np.dot(norm_vector,cl1_mat)).flatten()\n",
    "print (proj_1)"
   ]
  },
  {
   "cell_type": "code",
   "execution_count": 21,
   "metadata": {},
   "outputs": [
    {
     "name": "stdout",
     "output_type": "stream",
     "text": [
      "[-10.56576582 -11.19787024  -8.51799695 -11.59075565 -10.77278778]\n"
     ]
    }
   ],
   "source": [
    "proj_2=np.array(np.dot(norm_vector,cl2_mat)).flatten()\n",
    "print(proj_2)"
   ]
  },
  {
   "cell_type": "code",
   "execution_count": 22,
   "metadata": {},
   "outputs": [],
   "source": [
    "from mpl_toolkits import mplot3d"
   ]
  },
  {
   "cell_type": "code",
   "execution_count": 23,
   "metadata": {},
   "outputs": [],
   "source": [
    "vec=np.array(vector).flatten()"
   ]
  },
  {
   "cell_type": "code",
   "execution_count": 24,
   "metadata": {},
   "outputs": [
    {
     "data": {
      "image/png": "[encoded data removed]",
      "text/plain": [
       "<Figure size 432x288 with 1 Axes>"
      ]
     },
     "metadata": {
      "needs_background": "light"
     },
     "output_type": "display_data"
    }
   ],
   "source": [
    "fig=plt.figure()\n",
    "ax=plt.axes(projection=\"3d\")\n",
    "cl1=cluster1[[\"distance\"]+[\"diameter\"]+[\"density\"]].values.T\n",
    "cl2=cluster2[[\"distance\"]+[\"diameter\"]+[\"density\"]].values.T\n",
    "ax.set_xticks([0,10,20,30,40])\n",
    "ax.set_yticks(np.arange(0,200000,50000))\n",
    "ax.set_zticks(np.arange(0,6,1))\n",
    "ax.scatter(cl1[0],cl1[1],cl1[2],'o')\n",
    "ax.scatter(cl2[0],cl2[1],cl2[2],'o')\n",
    "ax.plot([0,vec[0]*2],[0,vec[1]*2],[0,vec[2]*2])\n",
    "plt.show()"
   ]
  },
  {
   "cell_type": "code",
   "execution_count": 25,
   "metadata": {},
   "outputs": [
    {
     "data": {
      "text/plain": [
       "<matplotlib.collections.PathCollection at 0x11702b8d0>"
      ]
     },
     "execution_count": 25,
     "metadata": {},
     "output_type": "execute_result"
    },
    {
     "data": {
      "image/png": "[encoded data removed]",
      "text/plain": [
       "<Figure size 432x288 with 1 Axes>"
      ]
     },
     "metadata": {
      "needs_background": "light"
     },
     "output_type": "display_data"
    }
   ],
   "source": [
    "fig=plt.figure()\n",
    "ax=plt.axes()\n",
    "ax.set_yticks([-1,0,1])\n",
    "ax.scatter(proj_1,np.zeros(proj_1.shape))\n",
    "ax.scatter(proj_2,np.zeros(proj_2.shape))"
   ]
  },
  {
   "cell_type": "code",
   "execution_count": 28,
   "metadata": {},
   "outputs": [
    {
     "data": {
      "text/plain": [
       "matrix([[-3.35075148e-01, -7.37587984e-05,  1.30166407e+00]])"
      ]
     },
     "execution_count": 28,
     "metadata": {},
     "output_type": "execute_result"
    }
   ],
   "source": [
    "norm_vector"
   ]
  },
  {
   "cell_type": "code",
   "execution_count": null,
   "metadata": {},
   "outputs": [],
   "source": []
  }
 ],
 "metadata": {
  "kernelspec": {
   "display_name": "Python 3",
   "language": "python",
   "name": "python3"
  },
  "language_info": {
   "codemirror_mode": {
    "name": "ipython",
    "version": 3
   },
   "file_extension": ".py",
   "mimetype": "text/x-python",
   "name": "python",
   "nbconvert_exporter": "python",
   "pygments_lexer": "ipython3",
   "version": "3.6.6"
  }
 },
 "nbformat": 4,
 "nbformat_minor": 2
}
